{
 "cells": [
  {
   "cell_type": "markdown",
   "id": "64168981",
   "metadata": {
    "tags": []
   },
   "source": [
    "# advertising\n",
    "Sales prediction means predicting how much of a product people will buy based on factors\n",
    "such as the amount you spend to advertise your product, the segment of people you\n",
    "advertise for, or the platform you are advertising on about your product.\n",
    "\n",
    "\n",
    "\n",
    "Typically, a product and service-based business always need their Data Scientist to predict\n",
    "their future sales with every step they take to manipulate the cost of advertising their\n",
    "product. So let’s start the task of sales prediction with machine learning using Python.\n",
    "\n"
   ]
  },
  {
   "cell_type": "code",
   "execution_count": 1,
   "id": "3da7c541",
   "metadata": {},
   "outputs": [],
   "source": [
    "import pandas as pd\n",
    "import numpy as np\n",
    "import matplotlib.pyplot as plt"
   ]
  },
  {
   "cell_type": "code",
   "execution_count": 2,
   "id": "cf6ae99d",
   "metadata": {},
   "outputs": [
    {
     "data": {
      "text/html": [
       "<div>\n",
       "<style scoped>\n",
       "    .dataframe tbody tr th:only-of-type {\n",
       "        vertical-align: middle;\n",
       "    }\n",
       "\n",
       "    .dataframe tbody tr th {\n",
       "        vertical-align: top;\n",
       "    }\n",
       "\n",
       "    .dataframe thead th {\n",
       "        text-align: right;\n",
       "    }\n",
       "</style>\n",
       "<table border=\"1\" class=\"dataframe\">\n",
       "  <thead>\n",
       "    <tr style=\"text-align: right;\">\n",
       "      <th></th>\n",
       "      <th>TV</th>\n",
       "      <th>Radio</th>\n",
       "      <th>Newspaper</th>\n",
       "      <th>Sales</th>\n",
       "    </tr>\n",
       "  </thead>\n",
       "  <tbody>\n",
       "    <tr>\n",
       "      <th>1</th>\n",
       "      <td>230.1</td>\n",
       "      <td>37.8</td>\n",
       "      <td>69.2</td>\n",
       "      <td>22.1</td>\n",
       "    </tr>\n",
       "    <tr>\n",
       "      <th>2</th>\n",
       "      <td>44.5</td>\n",
       "      <td>39.3</td>\n",
       "      <td>45.1</td>\n",
       "      <td>10.4</td>\n",
       "    </tr>\n",
       "    <tr>\n",
       "      <th>3</th>\n",
       "      <td>17.2</td>\n",
       "      <td>45.9</td>\n",
       "      <td>69.3</td>\n",
       "      <td>9.3</td>\n",
       "    </tr>\n",
       "    <tr>\n",
       "      <th>4</th>\n",
       "      <td>151.5</td>\n",
       "      <td>41.3</td>\n",
       "      <td>58.5</td>\n",
       "      <td>18.5</td>\n",
       "    </tr>\n",
       "    <tr>\n",
       "      <th>5</th>\n",
       "      <td>180.8</td>\n",
       "      <td>10.8</td>\n",
       "      <td>58.4</td>\n",
       "      <td>12.9</td>\n",
       "    </tr>\n",
       "  </tbody>\n",
       "</table>\n",
       "</div>"
      ],
      "text/plain": [
       "      TV  Radio  Newspaper  Sales\n",
       "1  230.1   37.8       69.2   22.1\n",
       "2   44.5   39.3       45.1   10.4\n",
       "3   17.2   45.9       69.3    9.3\n",
       "4  151.5   41.3       58.5   18.5\n",
       "5  180.8   10.8       58.4   12.9"
      ]
     },
     "execution_count": 2,
     "metadata": {},
     "output_type": "execute_result"
    }
   ],
   "source": [
    "df = pd.read_csv('Advertising.csv',\n",
    "                index_col='Unnamed: 0')\n",
    "df.head()"
   ]
  },
  {
   "cell_type": "code",
   "execution_count": 3,
   "id": "56c5c535",
   "metadata": {},
   "outputs": [
    {
     "data": {
      "text/plain": [
       "(200, 4)"
      ]
     },
     "execution_count": 3,
     "metadata": {},
     "output_type": "execute_result"
    }
   ],
   "source": [
    "df.shape"
   ]
  },
  {
   "cell_type": "code",
   "execution_count": 4,
   "id": "50901533",
   "metadata": {},
   "outputs": [
    {
     "data": {
      "text/plain": [
       "TV           0\n",
       "Radio        0\n",
       "Newspaper    0\n",
       "Sales        0\n",
       "dtype: int64"
      ]
     },
     "execution_count": 4,
     "metadata": {},
     "output_type": "execute_result"
    }
   ],
   "source": [
    "df.isnull().sum()"
   ]
  },
  {
   "cell_type": "code",
   "execution_count": 5,
   "id": "2757e58d",
   "metadata": {
    "scrolled": true
   },
   "outputs": [
    {
     "name": "stdout",
     "output_type": "stream",
     "text": [
      "<class 'pandas.core.frame.DataFrame'>\n",
      "Index: 200 entries, 1 to 200\n",
      "Data columns (total 4 columns):\n",
      " #   Column     Non-Null Count  Dtype  \n",
      "---  ------     --------------  -----  \n",
      " 0   TV         200 non-null    float64\n",
      " 1   Radio      200 non-null    float64\n",
      " 2   Newspaper  200 non-null    float64\n",
      " 3   Sales      200 non-null    float64\n",
      "dtypes: float64(4)\n",
      "memory usage: 7.8 KB\n"
     ]
    }
   ],
   "source": [
    "df.info()"
   ]
  },
  {
   "cell_type": "code",
   "execution_count": 6,
   "id": "0c8e5eda",
   "metadata": {},
   "outputs": [],
   "source": [
    "from sklearn.preprocessing import StandardScaler"
   ]
  },
  {
   "cell_type": "code",
   "execution_count": 7,
   "id": "003ea760",
   "metadata": {},
   "outputs": [],
   "source": [
    "scaler = StandardScaler()\n",
    "scaled_df = scaler.fit_transform(df)"
   ]
  },
  {
   "cell_type": "code",
   "execution_count": 8,
   "id": "340b154a",
   "metadata": {},
   "outputs": [
    {
     "data": {
      "text/plain": [
       "Index(['TV', 'Radio', 'Newspaper', 'Sales'], dtype='object')"
      ]
     },
     "execution_count": 8,
     "metadata": {},
     "output_type": "execute_result"
    }
   ],
   "source": [
    "df.columns"
   ]
  },
  {
   "cell_type": "code",
   "execution_count": 9,
   "id": "2d42a92c",
   "metadata": {
    "collapsed": true,
    "jupyter": {
     "outputs_hidden": true
    }
   },
   "outputs": [
    {
     "name": "stdout",
     "output_type": "stream",
     "text": [
      "Original data:\n",
      "         TV  Radio  Newspaper  Sales\n",
      "1    230.1   37.8       69.2   22.1\n",
      "2     44.5   39.3       45.1   10.4\n",
      "3     17.2   45.9       69.3    9.3\n",
      "4    151.5   41.3       58.5   18.5\n",
      "5    180.8   10.8       58.4   12.9\n",
      "..     ...    ...        ...    ...\n",
      "196   38.2    3.7       13.8    7.6\n",
      "197   94.2    4.9        8.1    9.7\n",
      "198  177.0    9.3        6.4   12.8\n",
      "199  283.6   42.0       66.2   25.5\n",
      "200  232.1    8.6        8.7   13.4\n",
      "\n",
      "[200 rows x 4 columns]\n",
      "\n",
      "Scaled data:\n",
      " [[ 9.69852266e-01  9.81522472e-01  1.77894547e+00  1.55205313e+00]\n",
      " [-1.19737623e+00  1.08280781e+00  6.69578760e-01 -6.96046111e-01]\n",
      " [-1.51615499e+00  1.52846331e+00  1.78354865e+00 -9.07405869e-01]\n",
      " [ 5.20496822e-02  1.21785493e+00  1.28640506e+00  8.60330287e-01]\n",
      " [ 3.94182198e-01 -8.41613655e-01  1.28180188e+00 -2.15683025e-01]\n",
      " [-1.61540845e+00  1.73103399e+00  2.04592999e+00 -1.31091086e+00]\n",
      " [-1.04557682e+00  6.43904671e-01 -3.24708413e-01 -4.27042783e-01]\n",
      " [-3.13436589e-01 -2.47406325e-01 -8.72486994e-01 -1.58039455e-01]\n",
      " [-1.61657614e+00 -1.42906863e+00 -1.36042422e+00 -1.77205942e+00]\n",
      " [ 6.16042873e-01 -1.39530685e+00 -4.30581584e-01 -6.57617064e-01]\n",
      " [-9.45155670e-01 -1.17923146e+00 -2.92486143e-01 -1.04190753e+00]\n",
      " [ 7.90028350e-01  4.96973404e-02 -1.22232878e+00  6.48970529e-01]\n",
      " [-1.43908760e+00  7.99208859e-01  1.62704048e+00 -9.26620392e-01]\n",
      " [-5.78501712e-01 -1.05768905e+00 -1.07502697e+00 -8.30547775e-01]\n",
      " [ 6.66253447e-01  6.50657027e-01  7.11007392e-01  9.56402904e-01]\n",
      " [ 5.64664612e-01  1.65000572e+00  1.02862691e+00  1.60969670e+00]\n",
      " [-9.25304978e-01  9.00494200e-01  3.84117072e+00 -2.92541119e-01]\n",
      " [ 1.56887609e+00  1.10306488e+00  1.16211917e+00  1.99398717e+00]\n",
      " [-9.08957349e-01 -1.86635121e-01 -5.64073843e-01 -5.23115400e-01]\n",
      " [ 3.00679600e-03  4.29449843e-02 -5.27248393e-01  1.10963873e-01]\n",
      " [ 8.33232798e-01  2.99534513e-01  1.05164281e+00  7.64257669e-01]\n",
      " [ 1.05509347e+00 -1.22649795e+00 -3.24708413e-01 -2.92541119e-01]\n",
      " [-1.56286250e+00 -4.97243498e-01  8.76721921e-01 -1.61834324e+00]\n",
      " [ 9.48833887e-01 -4.29719938e-01 -2.00422516e-01  2.83894584e-01]\n",
      " [-9.89527805e-01 -7.20071247e-01 -5.64073843e-01 -8.30547775e-01]\n",
      " [ 1.35285385e+00 -1.33453565e+00 -5.08835667e-01 -3.88613736e-01]\n",
      " [-4.83714657e-02  4.07572210e-01 -8.26455181e-01  1.87821967e-01]\n",
      " [ 1.08662104e+00 -4.43224650e-01 -3.52327501e-01  3.60752677e-01]\n",
      " [ 1.18820988e+00  2.59020377e-01 -3.52327501e-01  9.37188380e-01]\n",
      " [-8.92609721e-01 -4.90491142e-01  4.71641962e-01 -6.76831588e-01]\n",
      " [ 1.70316018e+00  3.40048650e-01  5.82118314e-01  1.41755147e+00]\n",
      " [-3.98677796e-01 -3.95958157e-01  3.70371972e-01 -4.07828260e-01]\n",
      " [-5.82004775e-01 -1.46958277e+00 -2.55016247e-02 -8.49762299e-01]\n",
      " [ 1.38438142e+00 -2.20396901e-01 -1.39264649e+00  6.48970529e-01]\n",
      " [-5.99520091e-01 -1.47633512e+00 -1.06582061e+00 -8.68976822e-01]\n",
      " [ 1.67747105e+00 -1.29402151e+00 -1.01518562e+00 -2.34897549e-01]\n",
      " [ 1.39956136e+00  1.38666383e+00 -1.17629696e+00  2.18613240e+00]\n",
      " [-8.44734522e-01  1.76479577e+00  6.97197848e-01  1.30178396e-01]\n",
      " [-1.21372386e+00  2.32010953e-01  2.09260624e-01 -7.53689682e-01]\n",
      " [ 9.45330823e-01  9.74770116e-01  6.65620024e-02  1.43676599e+00]\n",
      " [ 6.47570443e-01 -6.50927121e-02  4.81492770e-02  4.95254341e-01]\n",
      " [ 3.49810063e-01  6.84418807e-01  3.74975153e-01  5.91326959e-01]\n",
      " [ 1.71133400e+00  2.99534513e-01 -1.32359877e+00  1.28304980e+00]\n",
      " [ 6.98948705e-01 -1.00367020e+00 -1.91216154e-01 -2.15683025e-01]\n",
      " [-1.42390765e+00  1.64487393e-01  5.86721496e-01 -1.06112206e+00]\n",
      " [ 3.27623995e-01 -5.15880000e-02  4.35460956e-02  1.68607443e-01]\n",
      " [-6.69581357e-01 -9.02384859e-01  2.36879713e-01 -6.57617064e-01]\n",
      " [ 1.08428567e+00  1.23135965e+00 -5.54867481e-01  1.76341289e+00]\n",
      " [ 9.35989321e-01 -5.03995854e-01  8.90531465e-01  1.49392920e-01]\n",
      " [-9.35814168e-01 -7.80842451e-01  2.87514708e-01 -8.30547775e-01]\n",
      " [ 6.16042873e-01 -1.36154507e+00  1.86244718e-01 -5.03900877e-01]\n",
      " [-5.44638766e-01 -9.22641928e-01 -1.24074150e+00 -6.38402541e-01]\n",
      " [ 8.09879042e-01  1.24486436e+00  4.16403786e-01  1.64812575e+00]\n",
      " [ 4.15200577e-01  1.54872038e+00  1.29561142e+00  1.37912242e+00]\n",
      " [ 1.35051848e+00  3.73810430e-01 -6.74550196e-01  1.18697718e+00]\n",
      " [ 6.05533683e-01  1.76479577e+00  1.35545278e+00  1.85948550e+00]\n",
      " [-1.63175608e+00  3.26543937e-01  4.99261050e-01 -1.63755776e+00]\n",
      " [-1.26606546e-01 -2.74415749e-01 -6.42327927e-01 -1.58039455e-01]\n",
      " [ 7.44488528e-01  1.77830048e+00  3.28943340e-01  1.87870003e+00]\n",
      " [ 7.43320840e-01  4.21076922e-01 -9.78360166e-01  8.41115763e-01]\n",
      " [-1.09228433e+00 -1.43582099e+00 -4.21375221e-01 -1.13798015e+00]\n",
      " [ 1.33417085e+00  1.31238792e+00  1.11148417e+00  1.95555812e+00]\n",
      " [ 1.07727954e+00 -5.24252922e-01 -1.49787521e-01  3.22323631e-01]\n",
      " [-5.17781948e-01  4.27829278e-01 -1.01978880e+00 -4.32326777e-03]\n",
      " [-1.86158622e-01  1.31914027e+00 -7.61366196e-02  7.64257669e-01]\n",
      " [-9.11292725e-01 -9.42898996e-01 -1.36502740e+00 -9.07405869e-01]\n",
      " [-1.34917564e+00  9.02114765e-02 -1.30518604e+00 -8.68976822e-01]\n",
      " [-9.04082253e-02 -5.91776482e-01 -9.36931533e-01 -1.19610408e-01]\n",
      " [ 1.05509347e+00  2.86029801e-01 -9.00106083e-01  9.37188380e-01]\n",
      " [ 8.14549794e-01  1.39341619e+00 -1.54390703e-01  1.59048218e+00]\n",
      " [ 6.07869059e-01  4.95352838e-01  3.74975153e-01  8.21901240e-01]\n",
      " [-4.34876116e-01 -6.05281194e-01  5.27524584e-02 -3.11755643e-01]\n",
      " [-1.40405696e+00  6.57409383e-01 -5.18042030e-01 -1.00347849e+00]\n",
      " [-2.06009314e-01 -1.18598381e+00  3.43397329e-02 -5.80758971e-01]\n",
      " [ 7.74848409e-01  9.02114765e-02 -8.03439274e-01  5.72112435e-01]\n",
      " [-1.51965805e+00  1.37991148e+00  2.70878810e+00 -1.02269301e+00]\n",
      " [-1.39588315e+00 -1.46283041e+00 -4.53597491e-01 -1.36855443e+00]\n",
      " [-3.09933525e-01  3.53553362e-01 -7.52804279e-01  3.41057791e-02]\n",
      " [-1.65394214e+00  4.48086346e-01 -9.73756984e-01 -1.67598681e+00]\n",
      " [-3.62479475e-01 -1.05093669e+00 -3.43121138e-01 -5.80758971e-01]\n",
      " [-8.24883830e-01  2.32010953e-01 -3.79946589e-01 -4.27042783e-01]\n",
      " [ 1.08311798e+00 -1.29402151e+00  2.92117889e-01 -3.30970166e-01]\n",
      " [-8.37728396e-01 -2.00139833e-01  8.95779092e-02 -5.23115400e-01]\n",
      " [-9.18298852e-01  1.43393033e+00  2.32276531e-01 -8.11813615e-02]\n",
      " [ 7.76016097e-01  1.33264499e+00  1.49419267e-01  1.47519504e+00]\n",
      " [ 5.38975481e-01 -3.28434597e-01  1.61783412e+00  2.26251013e-01]\n",
      " [-8.26051518e-01  2.86029801e-01 -6.69947015e-01 -3.88613736e-01]\n",
      " [-4.24366926e-01  1.17058844e+00  1.50275459e+00  3.79967201e-01]\n",
      " [-6.85928986e-01  1.50982681e-01  1.97227908e+00 -2.15683025e-01]\n",
      " [-4.34876116e-01  1.65675807e+00  9.59579186e-01  5.14468865e-01]\n",
      " [-1.48792614e-01 -1.24000266e+00 -9.78360166e-01 -5.42329924e-01]\n",
      " [-1.38303858e+00 -1.46958277e+00  1.12593816e-01 -1.29169634e+00]\n",
      " [ 8.25058983e-01  6.91171163e-01  1.30942097e+00  1.03326100e+00]\n",
      " [ 1.21273132e+00  8.93741844e-01  1.92164409e+00  1.57126765e+00]\n",
      " [-4.62900623e-01 -6.25538262e-01 -9.04709264e-01 -4.84686354e-01]\n",
      " [ 1.89836839e-01  5.62876398e-01  1.02862691e+00  5.52897912e-01]\n",
      " [ 5.90353742e-01 -1.33453565e+00 -1.13486833e+00 -4.46257307e-01]\n",
      " [ 4.42057396e-01 -1.52873340e-01 -3.93756133e-01  2.83894584e-01]\n",
      " [ 1.66579418e+00  1.28537849e+00  9.50372823e-01  2.18613240e+00]\n",
      " [-1.38283424e-01  1.24486436e+00  7.06404211e-01  6.10541482e-01]\n",
      " [ 8.79940308e-01 -1.28051680e+00  8.85928284e-01 -4.46257307e-01]\n",
      " [ 1.74402926e+00  8.80237132e-01  3.23815396e+00  1.87870003e+00]\n",
      " [ 1.55486384e+00 -8.88880147e-01 -4.21375221e-01  1.49392920e-01]\n",
      " [ 4.77088029e-01 -4.09462869e-01 -5.82486569e-01  1.30178396e-01]\n",
      " [ 1.06443498e+00  7.45190011e-01 -1.16248742e+00  1.28304980e+00]\n",
      " [-1.06755854e-01  1.56222509e+00  1.30942097e+00  9.94831951e-01]\n",
      " [-1.42507534e+00 -8.28108943e-01 -3.93111688e-02 -1.31091086e+00]\n",
      " [-6.61407543e-01 -1.55061104e+00 -3.38517957e-01 -1.02269301e+00]\n",
      " [-1.56403019e+00 -1.54385868e+00 -2.28041604e-01 -1.67598681e+00]\n",
      " [ 1.26527727e+00  2.45515665e-01 -1.15328106e+00  1.11011909e+00]\n",
      " [ 9.19641692e-01 -1.01717491e+00  1.19434143e+00 -1.19610408e-01]\n",
      " [ 1.10530405e+00  9.95027184e-01 -3.38517957e-01  1.49440956e+00]\n",
      " [ 3.34630122e-01 -5.31005278e-01 -1.29597968e+00  1.48912557e-02]\n",
      " [ 7.30476274e-01 -1.79882765e-01 -9.13915627e-01  3.60752677e-01]\n",
      " [-8.03865450e-01  1.58923451e+00  1.81641536e-01  1.10963873e-01]\n",
      " [-8.40063771e-01  7.92456503e-01  1.01942054e+00 -2.73326596e-01]\n",
      " [-9.15759131e-02 -6.05281194e-01 -2.28041604e-01 -3.50184689e-01]\n",
      " [-8.24883830e-01 -1.51684926e+00 -7.25185191e-01 -8.88191346e-01]\n",
      " [-2.49213762e-01  9.20751268e-01  2.23926360e+00  3.60752677e-01]\n",
      " [-1.49046586e+00 -4.90491142e-01 -3.79946589e-01 -1.42619800e+00]\n",
      " [-6.70544700e-02  2.38763309e-01  7.20213755e-01  2.83894584e-01]\n",
      " [-1.49747198e+00 -1.05606848e-01  9.13547372e-01 -1.34933991e+00]\n",
      " [ 8.98623313e-01 -1.40881156e+00 -6.88359740e-01 -4.65471830e-01]\n",
      " [-2.79573643e-01  7.65447079e-01 -8.35661544e-01  2.26251013e-01]\n",
      " [ 9.62846140e-01  6.10142891e-01  2.00910454e+00  1.09090457e+00]\n",
      " [-6.98773552e-01 -7.74090095e-01 -2.14232060e-01 -6.57617064e-01]\n",
      " [-1.62591764e+00  1.05579839e+00  9.22753735e-01 -1.42619800e+00]\n",
      " [-7.80511695e-01 -1.57086811e+00 -9.82963347e-01 -1.00347849e+00]\n",
      " [ 8.55418865e-01  1.73778635e+00 -1.25915423e+00  2.05163074e+00]\n",
      " [-1.02105537e+00 -7.60585383e-01  5.77515133e-01 -8.30547775e-01]\n",
      " [-1.70882347e+00  1.10306488e+00 -1.00597925e+00 -2.38692417e+00]\n",
      " [ 1.37971067e+00 -1.37504978e+00  5.72911952e-01 -2.54112072e-01]\n",
      " [-1.61891151e+00  2.65772733e-01 -1.30978922e+00 -1.59912871e+00]\n",
      " [ 8.49580427e-01  6.91171163e-01  6.69578760e-01  1.07169004e+00]\n",
      " [-1.28612050e+00  1.03554132e+00  1.61323094e+00 -6.19188018e-01]\n",
      " [-1.15300409e+00  1.60273923e+00 -1.01518562e+00 -4.65471830e-01]\n",
      " [-1.41806922e+00  1.06255074e+00 -9.78360166e-01 -8.68976822e-01]\n",
      " [ 1.47896413e+00  3.80562786e-01  1.34164324e+00  1.30226433e+00]\n",
      " [-1.21489154e+00  1.77992105e-01 -4.62803854e-01 -8.49762299e-01]\n",
      " [ 4.42057396e-01  1.39341619e+00 -1.32820195e+00  1.28304980e+00]\n",
      " [-8.59914463e-01 -4.22967582e-01 -8.12645637e-01 -5.99973494e-01]\n",
      " [ 5.44813920e-01  8.19465927e-01  2.07354907e+00  9.94831951e-01]\n",
      " [ 8.57754241e-01  6.70914095e-01  3.38149702e-01  1.16776266e+00]\n",
      " [-4.95595880e-01 -1.18598381e+00  1.77038355e-01 -6.96046111e-01]\n",
      " [-5.93681653e-01 -5.71519414e-01  3.84181516e-01 -5.03900877e-01]\n",
      " [-7.87313476e-02 -1.44257334e+00 -9.92169710e-01 -7.15260635e-01]\n",
      " [ 1.08662104e+00 -1.07794612e+00 -1.00597925e+00 -1.58039455e-01]\n",
      " [ 1.12281936e+00  1.73778635e+00  6.32753309e-01  2.18613240e+00]\n",
      " [-1.27327593e+00  1.15033137e+00 -8.58677450e-01 -5.99973494e-01]\n",
      " [-1.19504085e+00  1.71239749e-01 -4.58200672e-01 -7.53689682e-01]\n",
      " [ 1.56070228e+00 -6.32290618e-01  2.96721070e-01  3.99181724e-01]\n",
      " [-3.04095087e-01 -1.00367020e+00  8.35293289e-01 -4.65471830e-01]\n",
      " [ 5.90353742e-01  2.43084817e-03 -7.52804279e-01  4.95254341e-01]\n",
      " [ 2.83251860e-01  1.10981724e+00  3.28943340e-01  9.56402904e-01]\n",
      " [ 4.75920341e-01 -1.46120984e-01 -9.69153803e-01  3.03109107e-01]\n",
      " [-1.66912209e+00 -7.87594807e-01 -1.14407469e+00 -2.07949180e+00]\n",
      " [-6.20538471e-01  1.36640677e+00  9.18150553e-01  2.45465537e-01]\n",
      " [ 3.21989902e-02 -1.48308748e+00 -2.87882962e-01 -7.53689682e-01]\n",
      " [-1.58037782e+00  9.20751268e-01  6.74181942e-01 -1.29169634e+00]\n",
      " [-1.79152496e-01 -3.28434597e-01  1.86244718e-01 -2.15683025e-01]\n",
      " [ 2.97264113e-01 -3.48691665e-01  6.72064478e-03  7.25348259e-02]\n",
      " [-7.16288868e-01  8.46475352e-01  8.62912377e-01 -1.38824932e-01]\n",
      " [ 4.82926468e-01 -3.48691665e-01 -2.28041604e-01  1.68607443e-01]\n",
      " [ 1.92172214e-01  9.13998912e-01 -1.06582061e+00  7.64257669e-01]\n",
      " [-3.48467222e-01 -5.78271770e-01 -1.15788424e+00 -4.07828260e-01]\n",
      " [ 1.02123053e+00 -1.34128800e+00  2.49704176e+00 -4.07828260e-01]\n",
      " [-1.50798117e+00  9.68017760e-01 -4.12168859e-01 -1.15719467e+00]\n",
      " [ 6.97781017e-01 -1.21974559e+00 -5.13438849e-01 -3.50184689e-01]\n",
      " [ 7.98202165e-01  2.26879163e-02  1.24497643e+00  5.91326959e-01]\n",
      " [ 1.60273904e+00 -8.55118367e-01 -1.11185242e+00  1.87821967e-01]\n",
      " [-1.13315340e+00 -7.87594807e-01 -5.59470662e-01 -1.08033658e+00]\n",
      " [ 2.03849092e-01 -1.59625696e-01  7.75451931e-01  9.17493494e-02]\n",
      " [-1.48813048e+00 -2.13644545e-01 -6.23915201e-01 -1.23405277e+00]\n",
      " [ 2.49388915e-01 -1.09145083e+00 -8.17248818e-01 -4.46257307e-01]\n",
      " [ 8.79940308e-01 -1.34128800e+00 -8.03439274e-01 -4.84686354e-01]\n",
      " [ 1.51633014e+00  1.73103399e+00  5.17673775e-01  2.49356478e+00]\n",
      " [ 1.18353913e+00  4.68343414e-01 -4.72010216e-01  1.18697718e+00]\n",
      " [ 2.70407294e-01 -1.04418434e+00  2.13863806e-01 -4.46257307e-01]\n",
      " [ 1.51399477e+00 -1.41556392e+00 -3.15502050e-01 -4.27042783e-01]\n",
      " [ 2.16693657e-01 -8.95632503e-01 -5.96296113e-01 -2.73326596e-01]\n",
      " [ 1.11601758e-01 -1.39530685e+00 -1.02439198e+00 -6.76831588e-01]\n",
      " [ 8.34400486e-01 -1.20624088e+00 -1.45184340e-01 -3.50184689e-01]\n",
      " [-1.06075676e+00 -1.18598381e+00 -3.93111688e-02 -1.02269301e+00]\n",
      " [ 1.64127273e+00  1.33264499e+00  1.89862818e+00  2.33984859e+00]\n",
      " [ 1.24659427e+00 -1.32616272e-01 -2.55016247e-02  6.87399576e-01]\n",
      " [ 6.76762637e-01  1.47444446e+00 -5.04232486e-01  1.64812575e+00]\n",
      " [-8.80728498e-02 -1.42906863e+00 -1.82009791e-01 -7.15260635e-01]\n",
      " [ 5.14454038e-01  3.67058074e-01 -5.68677025e-01  6.29756005e-01]\n",
      " [ 1.62258973e+00 -6.32290618e-01 -1.23613832e+00  3.60752677e-01]\n",
      " [-1.49863967e+00 -7.53833027e-01 -3.29311594e-01 -1.40698348e+00]\n",
      " [-1.25576062e+00  1.20435022e+00 -1.13947151e+00 -6.19188018e-01]\n",
      " [-8.35393020e-01 -8.41613655e-01 -1.13026515e+00 -7.92118728e-01]\n",
      " [-1.51615499e+00 -1.29402151e+00  4.81492770e-02 -1.56069967e+00]\n",
      " [ 2.30705910e-01  1.26512143e+00 -1.24074150e+00  1.07169004e+00]\n",
      " [ 3.10313024e-02  8.32970639e-01 -1.13026515e+00  6.29756005e-01]\n",
      " [-1.27094056e+00 -1.32103093e+00 -7.71217005e-01 -1.23405277e+00]\n",
      " [-6.17035408e-01 -1.24000266e+00 -1.03359834e+00 -8.30547775e-01]\n",
      " [ 3.49810063e-01 -9.42898996e-01 -1.11185242e+00 -2.34897549e-01]\n",
      " [ 1.59456522e+00  1.26512143e+00  1.64085003e+00  2.20534693e+00]\n",
      " [ 9.93206022e-01 -9.90165488e-01 -1.00597925e+00 -1.19610408e-01]]\n"
     ]
    }
   ],
   "source": [
    "print(\"Original data:\\n\", df)\n",
    "print(\"\\nScaled data:\\n\", scaled_df)"
   ]
  },
  {
   "cell_type": "code",
   "execution_count": 10,
   "id": "158e87fc",
   "metadata": {},
   "outputs": [
    {
     "data": {
      "text/html": [
       "<div>\n",
       "<style scoped>\n",
       "    .dataframe tbody tr th:only-of-type {\n",
       "        vertical-align: middle;\n",
       "    }\n",
       "\n",
       "    .dataframe tbody tr th {\n",
       "        vertical-align: top;\n",
       "    }\n",
       "\n",
       "    .dataframe thead th {\n",
       "        text-align: right;\n",
       "    }\n",
       "</style>\n",
       "<table border=\"1\" class=\"dataframe\">\n",
       "  <thead>\n",
       "    <tr style=\"text-align: right;\">\n",
       "      <th></th>\n",
       "      <th>TV</th>\n",
       "      <th>Radio</th>\n",
       "      <th>Newspaper</th>\n",
       "      <th>Sales</th>\n",
       "    </tr>\n",
       "  </thead>\n",
       "  <tbody>\n",
       "    <tr>\n",
       "      <th>0</th>\n",
       "      <td>0.969852</td>\n",
       "      <td>0.981522</td>\n",
       "      <td>1.778945</td>\n",
       "      <td>1.552053</td>\n",
       "    </tr>\n",
       "    <tr>\n",
       "      <th>1</th>\n",
       "      <td>-1.197376</td>\n",
       "      <td>1.082808</td>\n",
       "      <td>0.669579</td>\n",
       "      <td>-0.696046</td>\n",
       "    </tr>\n",
       "    <tr>\n",
       "      <th>2</th>\n",
       "      <td>-1.516155</td>\n",
       "      <td>1.528463</td>\n",
       "      <td>1.783549</td>\n",
       "      <td>-0.907406</td>\n",
       "    </tr>\n",
       "    <tr>\n",
       "      <th>3</th>\n",
       "      <td>0.052050</td>\n",
       "      <td>1.217855</td>\n",
       "      <td>1.286405</td>\n",
       "      <td>0.860330</td>\n",
       "    </tr>\n",
       "    <tr>\n",
       "      <th>4</th>\n",
       "      <td>0.394182</td>\n",
       "      <td>-0.841614</td>\n",
       "      <td>1.281802</td>\n",
       "      <td>-0.215683</td>\n",
       "    </tr>\n",
       "    <tr>\n",
       "      <th>...</th>\n",
       "      <td>...</td>\n",
       "      <td>...</td>\n",
       "      <td>...</td>\n",
       "      <td>...</td>\n",
       "    </tr>\n",
       "    <tr>\n",
       "      <th>195</th>\n",
       "      <td>-1.270941</td>\n",
       "      <td>-1.321031</td>\n",
       "      <td>-0.771217</td>\n",
       "      <td>-1.234053</td>\n",
       "    </tr>\n",
       "    <tr>\n",
       "      <th>196</th>\n",
       "      <td>-0.617035</td>\n",
       "      <td>-1.240003</td>\n",
       "      <td>-1.033598</td>\n",
       "      <td>-0.830548</td>\n",
       "    </tr>\n",
       "    <tr>\n",
       "      <th>197</th>\n",
       "      <td>0.349810</td>\n",
       "      <td>-0.942899</td>\n",
       "      <td>-1.111852</td>\n",
       "      <td>-0.234898</td>\n",
       "    </tr>\n",
       "    <tr>\n",
       "      <th>198</th>\n",
       "      <td>1.594565</td>\n",
       "      <td>1.265121</td>\n",
       "      <td>1.640850</td>\n",
       "      <td>2.205347</td>\n",
       "    </tr>\n",
       "    <tr>\n",
       "      <th>199</th>\n",
       "      <td>0.993206</td>\n",
       "      <td>-0.990165</td>\n",
       "      <td>-1.005979</td>\n",
       "      <td>-0.119610</td>\n",
       "    </tr>\n",
       "  </tbody>\n",
       "</table>\n",
       "<p>200 rows × 4 columns</p>\n",
       "</div>"
      ],
      "text/plain": [
       "           TV     Radio  Newspaper     Sales\n",
       "0    0.969852  0.981522   1.778945  1.552053\n",
       "1   -1.197376  1.082808   0.669579 -0.696046\n",
       "2   -1.516155  1.528463   1.783549 -0.907406\n",
       "3    0.052050  1.217855   1.286405  0.860330\n",
       "4    0.394182 -0.841614   1.281802 -0.215683\n",
       "..        ...       ...        ...       ...\n",
       "195 -1.270941 -1.321031  -0.771217 -1.234053\n",
       "196 -0.617035 -1.240003  -1.033598 -0.830548\n",
       "197  0.349810 -0.942899  -1.111852 -0.234898\n",
       "198  1.594565  1.265121   1.640850  2.205347\n",
       "199  0.993206 -0.990165  -1.005979 -0.119610\n",
       "\n",
       "[200 rows x 4 columns]"
      ]
     },
     "execution_count": 10,
     "metadata": {},
     "output_type": "execute_result"
    }
   ],
   "source": [
    "scaled_df = pd.DataFrame(scaled_df,\n",
    "                 columns=['TV', 'Radio', 'Newspaper', 'Sales'])\n",
    "scaled_df"
   ]
  },
  {
   "cell_type": "code",
   "execution_count": 24,
   "id": "e41f2a27",
   "metadata": {},
   "outputs": [
    {
     "data": {
      "application/javascript": [
       "\n",
       "        if (window._pyforest_update_imports_cell) { window._pyforest_update_imports_cell('import seaborn as sns'); }\n",
       "    "
      ],
      "text/plain": [
       "<IPython.core.display.Javascript object>"
      ]
     },
     "metadata": {},
     "output_type": "display_data"
    },
    {
     "data": {
      "application/javascript": [
       "\n",
       "        if (window._pyforest_update_imports_cell) { window._pyforest_update_imports_cell('import seaborn as sns'); }\n",
       "    "
      ],
      "text/plain": [
       "<IPython.core.display.Javascript object>"
      ]
     },
     "metadata": {},
     "output_type": "display_data"
    },
    {
     "data": {
      "image/png": "[encoded data removed]",
      "text/plain": [
       "<Figure size 1000x400 with 4 Axes>"
      ]
     },
     "metadata": {},
     "output_type": "display_data"
    }
   ],
   "source": [
    "fig, axes = plt.subplots(1,2,figsize=(10,4))\n",
    "\n",
    "sns.heatmap(df.corr(),\n",
    "            annot=True,\n",
    "            cmap='Reds',\n",
    "           ax=axes[0])\n",
    "\n",
    "sns.heatmap(scaled_df.corr(),\n",
    "            annot=True,\n",
    "            cmap='Blues',\n",
    "           ax=axes[1])\n",
    "\n",
    "plt.show()"
   ]
  },
  {
   "cell_type": "markdown",
   "id": "89e6990b",
   "metadata": {},
   "source": [
    "## With Normal Data"
   ]
  },
  {
   "cell_type": "code",
   "execution_count": 12,
   "id": "c3d1950b",
   "metadata": {},
   "outputs": [],
   "source": [
    "X = df[['TV', 'Radio', 'Newspaper']]\n",
    "y = df['Sales']"
   ]
  },
  {
   "cell_type": "code",
   "execution_count": 13,
   "id": "11ce07d1",
   "metadata": {},
   "outputs": [],
   "source": [
    "from sklearn.model_selection import train_test_split\n",
    "from sklearn.linear_model import LinearRegression\n",
    "from sklearn.metrics import mean_squared_error, r2_score"
   ]
  },
  {
   "cell_type": "code",
   "execution_count": 14,
   "id": "578cee76",
   "metadata": {},
   "outputs": [],
   "source": [
    "X_train, X_test, y_train, y_test = train_test_split(X, y, test_size=0.2, random_state=42)"
   ]
  },
  {
   "cell_type": "code",
   "execution_count": 15,
   "id": "ea930623",
   "metadata": {},
   "outputs": [
    {
     "data": {
      "text/plain": [
       "LinearRegression()"
      ]
     },
     "execution_count": 15,
     "metadata": {},
     "output_type": "execute_result"
    }
   ],
   "source": [
    "model = LinearRegression()\n",
    "model.fit(X_train, y_train)"
   ]
  },
  {
   "cell_type": "code",
   "execution_count": 16,
   "id": "761df313",
   "metadata": {},
   "outputs": [],
   "source": [
    "y_pred = model.predict(X_test)"
   ]
  },
  {
   "cell_type": "code",
   "execution_count": 17,
   "id": "e9bacf06",
   "metadata": {},
   "outputs": [
    {
     "name": "stdout",
     "output_type": "stream",
     "text": [
      "Mean Squared Error: 3.1740973539761037\n",
      "R2 Score: 0.899438024100912\n"
     ]
    }
   ],
   "source": [
    "print('Mean Squared Error:', mean_squared_error(y_test, y_pred))\n",
    "print('R2 Score:', r2_score(y_test, y_pred))"
   ]
  },
  {
   "cell_type": "markdown",
   "id": "cc8a89e1",
   "metadata": {},
   "source": [
    "## with Scaled Data "
   ]
  },
  {
   "cell_type": "code",
   "execution_count": 18,
   "id": "e57a2e0d",
   "metadata": {},
   "outputs": [],
   "source": [
    "scaled_X = scaled_df[['TV', 'Radio', 'Newspaper']]\n",
    "scaled_y = scaled_df['Sales']"
   ]
  },
  {
   "cell_type": "code",
   "execution_count": 19,
   "id": "33c40011",
   "metadata": {},
   "outputs": [],
   "source": [
    "scaled_X_train, scaled_X_test, scaled_y_train, scaled_y_test = train_test_split(scaled_X, scaled_y, test_size=0.2, random_state=42)"
   ]
  },
  {
   "cell_type": "code",
   "execution_count": 20,
   "id": "e3c2185a",
   "metadata": {},
   "outputs": [
    {
     "data": {
      "text/plain": [
       "LinearRegression()"
      ]
     },
     "execution_count": 20,
     "metadata": {},
     "output_type": "execute_result"
    }
   ],
   "source": [
    "model = LinearRegression()\n",
    "model.fit(scaled_X_train, scaled_y_train)"
   ]
  },
  {
   "cell_type": "code",
   "execution_count": 21,
   "id": "ac5dbad6",
   "metadata": {},
   "outputs": [],
   "source": [
    "scaled_y_pred = model.predict(scaled_X_test)"
   ]
  },
  {
   "cell_type": "code",
   "execution_count": 22,
   "id": "5cea4a34",
   "metadata": {},
   "outputs": [
    {
     "name": "stdout",
     "output_type": "stream",
     "text": [
      "Mean Squared Error: 0.11718701111820515\n",
      "R2 Score: 0.899438024100912\n"
     ]
    }
   ],
   "source": [
    "print('Mean Squared Error:', mean_squared_error(scaled_y_test, scaled_y_pred))\n",
    "print('R2 Score:', r2_score(scaled_y_test, scaled_y_pred))"
   ]
  },
  {
   "cell_type": "code",
   "execution_count": null,
   "id": "033e7212",
   "metadata": {},
   "outputs": [],
   "source": []
  }
 ],
 "metadata": {
  "kernelspec": {
   "display_name": "Python 3 (ipykernel)",
   "language": "python",
   "name": "python3"
  },
  "language_info": {
   "codemirror_mode": {
    "name": "ipython",
    "version": 3
   },
   "file_extension": ".py",
   "mimetype": "text/x-python",
   "name": "python",
   "nbconvert_exporter": "python",
   "pygments_lexer": "ipython3",
   "version": "3.9.13"
  }
 },
 "nbformat": 4,
 "nbformat_minor": 5
}
